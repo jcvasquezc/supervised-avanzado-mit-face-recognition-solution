{
 "cells": [
  {
   "cell_type": "markdown",
   "metadata": {},
   "source": [
    "### LSTM para clasificación de Pacientes con Enfermedad de Parkinson en marcha, voz, y escritura"
   ]
  },
  {
   "cell_type": "code",
   "execution_count": 58,
   "metadata": {
    "collapsed": false
   },
   "outputs": [],
   "source": [
    "from six.moves import cPickle as pickle\n",
    "from keras.models import Sequential\n",
    "from keras.layers import LSTM, Dense, Dropout\n",
    "from keras.datasets import mnist\n",
    "from keras.utils import np_utils\n",
    "import numpy as np"
   ]
  },
  {
   "cell_type": "markdown",
   "metadata": {},
   "source": [
    "## carga la base de datos de marcha"
   ]
  },
  {
   "cell_type": "code",
   "execution_count": 207,
   "metadata": {
    "collapsed": false
   },
   "outputs": [
    {
     "name": "stdout",
     "output_type": "stream",
     "text": [
      "Training set (1206, 150, 225) (1206, 2)\n",
      "Validation set (134, 150, 225) (134, 2)\n",
      "Test set (148, 150, 225) (148, 2)\n"
     ]
    }
   ],
   "source": [
    "pickle_file = 'Gait_STFT.pickle'\n",
    "\n",
    "with open(pickle_file, 'rb') as f:\n",
    "    save = pickle.load(f)\n",
    "    x_train = save['train_dataset']\n",
    "    y_train = save['train_labels']\n",
    "    x_valid = save['valid_dataset']\n",
    "    y_valid = save['valid_labels']\n",
    "    x_test = save['test_dataset']\n",
    "    y_test = save['test_labels']\n",
    "    del save  # hint to help gc free up memory\n",
    "\n",
    "\n",
    "\n",
    "def reformat2(dataset, labels):\n",
    "    dataset = dataset.reshape((-1, dataset.shape[1], dataset.shape[2])).astype(np.float32)\n",
    "    # Map 0 to [1.0, 0.0, 0.0 ...], 1 to [0.0, 1.0, 0.0 ...]\n",
    "    #labels = (np.arange(2) == labels[:,None]).astype(np.float32)\n",
    "    return dataset, labels\n",
    "\n",
    "\n",
    "x_train, y_train = reformat2(x_train, y_train)\n",
    "x_valid, y_valid = reformat2(x_valid, y_valid)\n",
    "x_test, y_test = reformat2(x_test, y_test)\n",
    "print('Training set', x_train.shape, y_train.shape)\n",
    "print('Validation set', x_valid.shape, y_valid.shape)\n",
    "print('Test set', x_test.shape, y_test.shape)"
   ]
  },
  {
   "cell_type": "markdown",
   "metadata": {},
   "source": [
    "## Defino arquitectura de la red\n",
    "\n"
   ]
  },
  {
   "cell_type": "code",
   "execution_count": 223,
   "metadata": {
    "collapsed": false
   },
   "outputs": [
    {
     "name": "stdout",
     "output_type": "stream",
     "text": [
      "_________________________________________________________________\n",
      "Layer (type)                 Output Shape              Param #   \n",
      "=================================================================\n",
      "lstm_45 (LSTM)               (None, 128)               181248    \n",
      "_________________________________________________________________\n",
      "dense_43 (Dense)             (None, 2)                 258       \n",
      "=================================================================\n",
      "Total params: 181,506.0\n",
      "Trainable params: 181,506\n",
      "Non-trainable params: 0.0\n",
      "_________________________________________________________________\n"
     ]
    }
   ],
   "source": [
    "HIDDEN_UNITS=128\n",
    "input_shape = (x_train.shape[1], x_train.shape[2])\n",
    "num_labels=2\n",
    "\n",
    "\n",
    "model = Sequential()\n",
    "model.add(LSTM(HIDDEN_UNITS, input_shape=input_shape))\n",
    "model.add(Dense(num_labels, activation='softmax'))\n",
    "model.compile(optimizer='rmsprop', loss='categorical_crossentropy', metrics=['accuracy'])\n",
    "model.summary()"
   ]
  },
  {
   "cell_type": "markdown",
   "metadata": {},
   "source": [
    "## Entreno la red"
   ]
  },
  {
   "cell_type": "code",
   "execution_count": 224,
   "metadata": {
    "collapsed": false
   },
   "outputs": [
    {
     "name": "stdout",
     "output_type": "stream",
     "text": [
      "Epoch 1/50\n",
      "1206/1206 [==============================] - 28s - loss: 0.6986 - acc: 0.6045    \n",
      "Epoch 2/50\n",
      "1206/1206 [==============================] - 23s - loss: 0.5203 - acc: 0.7446    \n",
      "Epoch 3/50\n",
      "1206/1206 [==============================] - 22s - loss: 0.4312 - acc: 0.7902    \n",
      "Epoch 4/50\n",
      "1206/1206 [==============================] - 23s - loss: 0.3549 - acc: 0.8433    \n",
      "Epoch 5/50\n",
      "1206/1206 [==============================] - 23s - loss: 0.3212 - acc: 0.8665    \n",
      "Epoch 6/50\n",
      "1206/1206 [==============================] - 26s - loss: 0.2791 - acc: 0.8765    \n",
      "Epoch 7/50\n",
      "1206/1206 [==============================] - 26s - loss: 0.2651 - acc: 0.8814    \n",
      "Epoch 8/50\n",
      "1206/1206 [==============================] - 32s - loss: 0.2313 - acc: 0.8947    \n",
      "Epoch 9/50\n",
      "1206/1206 [==============================] - 28s - loss: 0.2066 - acc: 0.9104    \n",
      "Epoch 10/50\n",
      "1206/1206 [==============================] - 30s - loss: 0.2055 - acc: 0.9138    \n",
      "Epoch 11/50\n",
      "1206/1206 [==============================] - 28s - loss: 0.1689 - acc: 0.9328    \n",
      "Epoch 12/50\n",
      "1206/1206 [==============================] - 28s - loss: 0.1881 - acc: 0.9262    \n",
      "Epoch 13/50\n",
      "1206/1206 [==============================] - 27s - loss: 0.1674 - acc: 0.9295    \n",
      "Epoch 14/50\n",
      "1206/1206 [==============================] - 28s - loss: 0.1620 - acc: 0.9411    \n",
      "Epoch 15/50\n",
      "1206/1206 [==============================] - 28s - loss: 0.1515 - acc: 0.9386    \n",
      "Epoch 16/50\n",
      "1206/1206 [==============================] - 29s - loss: 0.1557 - acc: 0.9420    \n",
      "Epoch 17/50\n",
      "1206/1206 [==============================] - 29s - loss: 0.1299 - acc: 0.9461    \n",
      "Epoch 18/50\n",
      "1206/1206 [==============================] - 28s - loss: 0.1333 - acc: 0.9486    \n",
      "Epoch 19/50\n",
      "1206/1206 [==============================] - 27s - loss: 0.1209 - acc: 0.9561    \n",
      "Epoch 20/50\n",
      "1206/1206 [==============================] - 31s - loss: 0.1121 - acc: 0.9511    \n",
      "Epoch 21/50\n",
      "1206/1206 [==============================] - 28s - loss: 0.1447 - acc: 0.9519    \n",
      "Epoch 22/50\n",
      "1206/1206 [==============================] - 30s - loss: 0.1248 - acc: 0.9486    \n",
      "Epoch 23/50\n",
      "1206/1206 [==============================] - 28s - loss: 0.1078 - acc: 0.9536    \n",
      "Epoch 24/50\n",
      "1206/1206 [==============================] - 25s - loss: 0.1063 - acc: 0.9602    \n",
      "Epoch 25/50\n",
      "1206/1206 [==============================] - 27s - loss: 0.1092 - acc: 0.9569    \n",
      "Epoch 26/50\n",
      "1206/1206 [==============================] - 27s - loss: 0.0694 - acc: 0.9760    \n",
      "Epoch 27/50\n",
      "1206/1206 [==============================] - 25s - loss: 0.1062 - acc: 0.9561    \n",
      "Epoch 28/50\n",
      "1206/1206 [==============================] - 23s - loss: 0.0656 - acc: 0.9743    \n",
      "Epoch 29/50\n",
      "1206/1206 [==============================] - 24s - loss: 0.0921 - acc: 0.9660    \n",
      "Epoch 30/50\n",
      "1206/1206 [==============================] - 23s - loss: 0.0937 - acc: 0.9619    \n",
      "Epoch 31/50\n",
      "1206/1206 [==============================] - 24s - loss: 0.0424 - acc: 0.9851    \n",
      "Epoch 32/50\n",
      "1206/1206 [==============================] - 25s - loss: 0.0731 - acc: 0.9751    \n",
      "Epoch 33/50\n",
      "1206/1206 [==============================] - 28s - loss: 0.0747 - acc: 0.9726    \n",
      "Epoch 34/50\n",
      "1206/1206 [==============================] - 32s - loss: 0.0569 - acc: 0.9768    \n",
      "Epoch 35/50\n",
      "1206/1206 [==============================] - 30s - loss: 0.0981 - acc: 0.9668    \n",
      "Epoch 36/50\n",
      "1206/1206 [==============================] - 30s - loss: 0.0359 - acc: 0.9884    \n",
      "Epoch 37/50\n",
      "1206/1206 [==============================] - 30s - loss: 0.0484 - acc: 0.9842    \n",
      "Epoch 38/50\n",
      "1206/1206 [==============================] - 30s - loss: 0.0504 - acc: 0.9851    \n",
      "Epoch 39/50\n",
      "1206/1206 [==============================] - 29s - loss: 0.0561 - acc: 0.9818    \n",
      "Epoch 40/50\n",
      "1206/1206 [==============================] - 28s - loss: 0.0325 - acc: 0.9925    \n",
      "Epoch 41/50\n",
      "1206/1206 [==============================] - 28s - loss: 0.0200 - acc: 0.9959    \n",
      "Epoch 42/50\n",
      "1206/1206 [==============================] - 27s - loss: 0.0679 - acc: 0.9784    \n",
      "Epoch 43/50\n",
      "1206/1206 [==============================] - 27s - loss: 0.0141 - acc: 0.9959    \n",
      "Epoch 44/50\n",
      "1206/1206 [==============================] - 28s - loss: 0.0594 - acc: 0.9751    \n",
      "Epoch 45/50\n",
      "1206/1206 [==============================] - 27s - loss: 0.0195 - acc: 0.9950    \n",
      "Epoch 46/50\n",
      "1206/1206 [==============================] - 27s - loss: 0.0510 - acc: 0.9867    \n",
      "Epoch 47/50\n",
      "1206/1206 [==============================] - 27s - loss: 0.0194 - acc: 0.9942    \n",
      "Epoch 48/50\n",
      "1206/1206 [==============================] - 27s - loss: 0.0388 - acc: 0.9884    \n",
      "Epoch 49/50\n",
      "1206/1206 [==============================] - 28s - loss: 0.0056 - acc: 0.9992    \n",
      "Epoch 50/50\n",
      "1206/1206 [==============================] - 27s - loss: 0.0655 - acc: 0.9818    \n",
      "Wall time: 23min 15s\n"
     ]
    }
   ],
   "source": [
    "NUM_EPOCHS=50\n",
    "BATCH_SIZE=64\n",
    "%time history = model.fit(x_train, y_train, epochs=NUM_EPOCHS, batch_size=BATCH_SIZE, shuffle=True, verbose=1)"
   ]
  },
  {
   "cell_type": "code",
   "execution_count": 225,
   "metadata": {
    "collapsed": false
   },
   "outputs": [
    {
     "name": "stdout",
     "output_type": "stream",
     "text": [
      "dict_keys(['loss', 'acc'])\n"
     ]
    },
    {
     "data": {
      "image/png": "[encoded data removed]",
      "text/plain": [
       "<matplotlib.figure.Figure at 0x2806a148b70>"
      ]
     },
     "metadata": {},
     "output_type": "display_data"
    },
    {
     "data": {
      "image/png": "[encoded data removed]",
      "text/plain": [
       "<matplotlib.figure.Figure at 0x28095b5dd68>"
      ]
     },
     "metadata": {},
     "output_type": "display_data"
    }
   ],
   "source": [
    "# list all data in history\n",
    "import matplotlib.pyplot as plt\n",
    "%matplotlib inline\n",
    "print(history.history.keys())\n",
    "                \n",
    "    \n",
    "# summarize history for loss\n",
    "plt.figure(figsize=(4,3))\n",
    "plt.plot(history.history['loss'])\n",
    "plt.title('Funcion de perdida')\n",
    "plt.ylabel('Entropia cruzada')\n",
    "plt.xlabel('epoch')\n",
    "plt.savefig('lossGaitLSTM.pdf')\n",
    "plt.show()\n",
    "\n",
    "plt.figure(figsize=(4,3))\n",
    "plt.plot(history.history['acc'])\n",
    "plt.ylabel('Tasa de aciertos')\n",
    "plt.xlabel('epoch')\n",
    "plt.savefig('accLSTM.pdf')\n",
    "plt.show()\n",
    "\n"
   ]
  },
  {
   "cell_type": "code",
   "execution_count": 226,
   "metadata": {
    "collapsed": true
   },
   "outputs": [],
   "source": [
    "from sklearn.metrics import confusion_matrix\n",
    "import itertools\n",
    "\n",
    "def accuracy(predictions, labels):\n",
    "    return (100.0 * np.sum(np.argmax(predictions, 1) == np.argmax(labels, 1))\n",
    "          / predictions.shape[0])\n",
    "\n",
    "\n",
    "\n",
    "\n",
    "def plot_confusion_matrix(cm, classes,\n",
    "                          normalize=True,\n",
    "                          title='Confusion matrix',\n",
    "                          cmap=plt.cm.Blues):\n",
    "    \"\"\"\n",
    "    This function prints and plots the confusion matrix.\n",
    "    Normalization can be applied by setting `normalize=True`.\n",
    "    \"\"\"\n",
    "    plt.imshow(cm, interpolation='nearest', cmap=cmap)\n",
    "    plt.title(title)\n",
    "    plt.colorbar()\n",
    "    tick_marks = np.arange(len(classes))\n",
    "    plt.xticks(tick_marks, classes, rotation=45)\n",
    "    plt.yticks(tick_marks, classes)\n",
    "\n",
    "    if normalize:\n",
    "        cm = cm.astype('float') / cm.sum(axis=1)[:, np.newaxis]\n",
    "        print(\"Normalized confusion matrix\")\n",
    "    else:\n",
    "        print('Confusion matrix, without normalization')\n",
    "\n",
    "    print(cm)\n",
    "\n",
    "    thresh = cm.max() / 2.\n",
    "    for i, j in itertools.product(range(cm.shape[0]), range(cm.shape[1])):\n",
    "        plt.text(j, i, cm[i, j],\n",
    "                 horizontalalignment=\"center\",\n",
    "                 color=\"white\" if cm[i, j] > thresh else \"black\")\n",
    "\n",
    "    plt.tight_layout()\n",
    "    plt.ylabel('Clase real')\n",
    "    plt.xlabel('Clase predicha')\n",
    "\n"
   ]
  },
  {
   "cell_type": "code",
   "execution_count": 227,
   "metadata": {
    "collapsed": false
   },
   "outputs": [
    {
     "name": "stdout",
     "output_type": "stream",
     "text": [
      "(148, 2)\n",
      "accuracy en conjunto de test= 95.2702702703\n",
      "Normalized confusion matrix\n",
      "[[ 0.99  0.01]\n",
      " [ 0.08  0.92]]\n"
     ]
    },
    {
     "data": {
      "image/png": "[encoded data removed]",
      "text/plain": [
       "<matplotlib.figure.Figure at 0x28094f6fdd8>"
      ]
     },
     "metadata": {},
     "output_type": "display_data"
    }
   ],
   "source": [
    "\n",
    "label_predGait = model.predict(x_test)\n",
    "print (label_predGait.shape)\n",
    "\n",
    "\n",
    "accTest=accuracy(label_predGait, y_test)\n",
    "\n",
    "print('accuracy en conjunto de test=', accTest)\n",
    "\n",
    "# grafica de la matriz de confusion\n",
    "\n",
    "cnf_matrix = confusion_matrix(np.argmax(label_predGait,1), np.argmax(y_test,1))\n",
    "np.set_printoptions(precision=2)\n",
    "\n",
    "class_names=['Healthy Control', 'Patient']\n",
    "# Plot non-normalized confusion matrix\n",
    "plt.figure(figsize=(5,5))\n",
    "plot_confusion_matrix(cnf_matrix, classes=class_names, normalize=True,\n",
    "                      title='Matriz de Confusion')\n",
    "\n",
    "plt.savefig('cmGaitLSTM.pdf')\n",
    "plt.show()"
   ]
  },
  {
   "cell_type": "markdown",
   "metadata": {},
   "source": [
    "## carga la base de datos de voz: Onset"
   ]
  },
  {
   "cell_type": "code",
   "execution_count": 246,
   "metadata": {
    "collapsed": false
   },
   "outputs": [
    {
     "name": "stdout",
     "output_type": "stream",
     "text": [
      "(8072, 65, 49) (8072,)\n"
     ]
    }
   ],
   "source": [
    "pickle_file = 'onset150PCGITAddk.pickle'\n",
    "\n",
    "with open(pickle_file, 'rb') as f:\n",
    "    save = pickle.load(f)\n",
    "    ID = save['ID']\n",
    "    y = save['labelclass']\n",
    "    x = save['stft']\n",
    "    task = save['Task']\n",
    "    del save  # hint to help gc free up memory\n",
    "\n",
    "\n",
    "\n",
    "y2 = np_utils.to_categorical(y, 2)\n",
    "print(x.shape, y.shape)"
   ]
  },
  {
   "cell_type": "code",
   "execution_count": 247,
   "metadata": {
    "collapsed": false
   },
   "outputs": [
    {
     "name": "stdout",
     "output_type": "stream",
     "text": [
      "7259 813\n",
      "[18 23 34 38 41 42 78 85 89 97]\n"
     ]
    }
   ],
   "source": [
    "from sklearn.model_selection import GroupKFold, StratifiedKFold\n",
    "group_kfold = GroupKFold(n_splits=10)\n",
    "\n",
    "skf=StratifiedKFold(n_splits=10, shuffle=True)\n",
    "\n",
    "p=np.random.permutation(len(ID))\n",
    "\n",
    "x=x[p,:,:]\n",
    "y=y[p]\n",
    "y2=y2[p,:]\n",
    "ID=ID[p]\n",
    "task=[task[i] for i in p]\n",
    "\n",
    "for train_index, test_index in group_kfold.split(x, y,ID):\n",
    "    print(len(train_index), len(test_index))\n",
    "    break\n",
    "    \n",
    "print(np.unique(ID[test_index]))\n",
    "\n",
    "x_train=x[train_index,:,:]\n",
    "y_train=y2[train_index,:]\n",
    "x_test=x[test_index,:,:]\n",
    "y_test=y2[test_index,:]\n",
    "\n",
    "avg_image=np.mean(x_train,0)\n",
    "std_image=np.std(x_train,0)\n",
    "\n",
    "x_train=(x_train-avg_image)/std_image\n",
    "x_test=(x_test-avg_image)/std_image"
   ]
  },
  {
   "cell_type": "code",
   "execution_count": 248,
   "metadata": {
    "collapsed": false
   },
   "outputs": [
    {
     "name": "stdout",
     "output_type": "stream",
     "text": [
      "_________________________________________________________________\n",
      "Layer (type)                 Output Shape              Param #   \n",
      "=================================================================\n",
      "lstm_49 (LSTM)               (None, 128)               91136     \n",
      "_________________________________________________________________\n",
      "dense_47 (Dense)             (None, 2)                 258       \n",
      "=================================================================\n",
      "Total params: 91,394.0\n",
      "Trainable params: 91,394\n",
      "Non-trainable params: 0.0\n",
      "_________________________________________________________________\n"
     ]
    }
   ],
   "source": [
    "from keras.optimizers import RMSprop\n",
    "\n",
    "HIDDEN_UNITS=128\n",
    "input_shape = (x_train.shape[1], x_train.shape[2])\n",
    "num_labels=2\n",
    "\n",
    "\n",
    "model2 = Sequential()\n",
    "model2.add(LSTM(HIDDEN_UNITS, input_shape=input_shape, dropout=0.5))\n",
    "#model2.add(Dropout(0.5))\n",
    "model2.add(Dense(num_labels, activation='softmax'))\n",
    "model2.compile(optimizer='rmsprop', loss='categorical_crossentropy', metrics=['accuracy'])\n",
    "#optimizer = RMSprop(lr=0.01)\n",
    "#model2.compile(loss='categorical_crossentropy', optimizer=optimizer, metrics=['accuracy'])\n",
    "model2.summary()"
   ]
  },
  {
   "cell_type": "code",
   "execution_count": 249,
   "metadata": {
    "collapsed": false
   },
   "outputs": [
    {
     "name": "stdout",
     "output_type": "stream",
     "text": [
      "Train on 7259 samples, validate on 813 samples\n",
      "Epoch 1/50\n",
      "7259/7259 [==============================] - 56s - loss: 0.6575 - acc: 0.5991 - val_loss: 0.7084 - val_acc: 0.6962\n",
      "Epoch 2/50\n",
      "7259/7259 [==============================] - 51s - loss: 0.6476 - acc: 0.6128 - val_loss: 0.6613 - val_acc: 0.5326\n",
      "Epoch 3/50\n",
      "7259/7259 [==============================] - 50s - loss: 0.6390 - acc: 0.6279 - val_loss: 0.6657 - val_acc: 0.6679\n",
      "Epoch 4/50\n",
      "7259/7259 [==============================] - 51s - loss: 0.6360 - acc: 0.6319 - val_loss: 0.6906 - val_acc: 0.5732\n",
      "Epoch 5/50\n",
      "7259/7259 [==============================] - 50s - loss: 0.6273 - acc: 0.6384 - val_loss: 0.6926 - val_acc: 0.4982\n",
      "Epoch 6/50\n",
      "7259/7259 [==============================] - 51s - loss: 0.6166 - acc: 0.6501 - val_loss: 0.7750 - val_acc: 0.5572\n",
      "Epoch 7/50\n",
      "7259/7259 [==============================] - 50s - loss: 0.6112 - acc: 0.6647 - val_loss: 0.6962 - val_acc: 0.5633\n",
      "Epoch 8/50\n",
      "7259/7259 [==============================] - 49s - loss: 0.5943 - acc: 0.6823 - val_loss: 0.8399 - val_acc: 0.4477\n",
      "Epoch 9/50\n",
      "7259/7259 [==============================] - 50s - loss: 0.5849 - acc: 0.6924 - val_loss: 0.7798 - val_acc: 0.4809\n",
      "Epoch 10/50\n",
      "7259/7259 [==============================] - 49s - loss: 0.5782 - acc: 0.6997 - val_loss: 0.6583 - val_acc: 0.6359\n",
      "Epoch 11/50\n",
      "7259/7259 [==============================] - 49s - loss: 0.5634 - acc: 0.7071 - val_loss: 0.7157 - val_acc: 0.6224\n",
      "Epoch 12/50\n",
      "7259/7259 [==============================] - 49s - loss: 0.5464 - acc: 0.7208 - val_loss: 0.6773 - val_acc: 0.6347\n",
      "Epoch 13/50\n",
      "7259/7259 [==============================] - 50s - loss: 0.5423 - acc: 0.7304 - val_loss: 0.7814 - val_acc: 0.5449\n",
      "Epoch 14/50\n",
      "7259/7259 [==============================] - 52s - loss: 0.5346 - acc: 0.7377 - val_loss: 0.7151 - val_acc: 0.6298\n",
      "Epoch 15/50\n",
      "7259/7259 [==============================] - 53s - loss: 0.5266 - acc: 0.7402 - val_loss: 0.7625 - val_acc: 0.5720\n",
      "Epoch 16/50\n",
      "7259/7259 [==============================] - 53s - loss: 0.5169 - acc: 0.7473 - val_loss: 0.8495 - val_acc: 0.4625\n",
      "Epoch 17/50\n",
      "7259/7259 [==============================] - 51s - loss: 0.5108 - acc: 0.7475 - val_loss: 0.7677 - val_acc: 0.6101\n",
      "Epoch 18/50\n",
      "7259/7259 [==============================] - 55s - loss: 0.5037 - acc: 0.7516 - val_loss: 0.7711 - val_acc: 0.6162\n",
      "Epoch 19/50\n",
      "7259/7259 [==============================] - 50s - loss: 0.4990 - acc: 0.7571 - val_loss: 0.8380 - val_acc: 0.5154\n",
      "Epoch 20/50\n",
      "7259/7259 [==============================] - 61s - loss: 0.4886 - acc: 0.7651 - val_loss: 0.7513 - val_acc: 0.6187\n",
      "Epoch 21/50\n",
      "7259/7259 [==============================] - 50s - loss: 0.4824 - acc: 0.7683 - val_loss: 0.7402 - val_acc: 0.6002\n",
      "Epoch 22/50\n",
      "7259/7259 [==============================] - 48s - loss: 0.4700 - acc: 0.7757 - val_loss: 1.1241 - val_acc: 0.4182\n",
      "Epoch 23/50\n",
      "7259/7259 [==============================] - 52s - loss: 0.4628 - acc: 0.7749 - val_loss: 0.8186 - val_acc: 0.5031\n",
      "Epoch 24/50\n",
      "7259/7259 [==============================] - 47s - loss: 0.4517 - acc: 0.7872 - val_loss: 0.8276 - val_acc: 0.5781\n",
      "Epoch 25/50\n",
      "7259/7259 [==============================] - 48s - loss: 0.4560 - acc: 0.7887 - val_loss: 0.8238 - val_acc: 0.6175\n",
      "Epoch 26/50\n",
      "7259/7259 [==============================] - 48s - loss: 0.4449 - acc: 0.7907 - val_loss: 0.8785 - val_acc: 0.5572\n",
      "Epoch 27/50\n",
      "7259/7259 [==============================] - 50s - loss: 0.4377 - acc: 0.7935 - val_loss: 1.0511 - val_acc: 0.4453\n",
      "Epoch 28/50\n",
      "7259/7259 [==============================] - 51s - loss: 0.4289 - acc: 0.8033 - val_loss: 0.9427 - val_acc: 0.5215\n",
      "Epoch 29/50\n",
      "7259/7259 [==============================] - 48s - loss: 0.4238 - acc: 0.8020 - val_loss: 0.8946 - val_acc: 0.5732\n",
      "Epoch 30/50\n",
      "7259/7259 [==============================] - 48s - loss: 0.4187 - acc: 0.8033 - val_loss: 0.9308 - val_acc: 0.4920\n",
      "Epoch 31/50\n",
      "7259/7259 [==============================] - 47s - loss: 0.4179 - acc: 0.8056 - val_loss: 0.8860 - val_acc: 0.5535\n",
      "Epoch 32/50\n",
      "7259/7259 [==============================] - 47s - loss: 0.4030 - acc: 0.8186 - val_loss: 0.9154 - val_acc: 0.5670\n",
      "Epoch 33/50\n",
      "7259/7259 [==============================] - 47s - loss: 0.4096 - acc: 0.8143 - val_loss: 0.9064 - val_acc: 0.5756\n",
      "Epoch 34/50\n",
      "7259/7259 [==============================] - 47s - loss: 0.3947 - acc: 0.8228 - val_loss: 0.8111 - val_acc: 0.6359\n",
      "Epoch 35/50\n",
      "7259/7259 [==============================] - 48s - loss: 0.3878 - acc: 0.8213 - val_loss: 0.8845 - val_acc: 0.6224\n",
      "Epoch 36/50\n",
      "7259/7259 [==============================] - 47s - loss: 0.3881 - acc: 0.8290 - val_loss: 0.9491 - val_acc: 0.5338\n",
      "Epoch 37/50\n",
      "7259/7259 [==============================] - 47s - loss: 0.3801 - acc: 0.8248 - val_loss: 1.1054 - val_acc: 0.4563\n",
      "Epoch 38/50\n",
      "7259/7259 [==============================] - 47s - loss: 0.3732 - acc: 0.8322 - val_loss: 0.9243 - val_acc: 0.5978\n",
      "Epoch 39/50\n",
      "7259/7259 [==============================] - 49s - loss: 0.3749 - acc: 0.8330 - val_loss: 0.9799 - val_acc: 0.5916\n",
      "Epoch 40/50\n",
      "7259/7259 [==============================] - 48s - loss: 0.3729 - acc: 0.8323 - val_loss: 0.9081 - val_acc: 0.5375\n",
      "Epoch 41/50\n",
      "7259/7259 [==============================] - 47s - loss: 0.3608 - acc: 0.8379 - val_loss: 1.0254 - val_acc: 0.5597\n",
      "Epoch 42/50\n",
      "7259/7259 [==============================] - 47s - loss: 0.3593 - acc: 0.8417 - val_loss: 0.9997 - val_acc: 0.5535\n",
      "Epoch 43/50\n",
      "7259/7259 [==============================] - 47s - loss: 0.3564 - acc: 0.8454 - val_loss: 0.9948 - val_acc: 0.5793\n",
      "Epoch 44/50\n",
      "7259/7259 [==============================] - 47s - loss: 0.3541 - acc: 0.8453 - val_loss: 0.9015 - val_acc: 0.6224\n",
      "Epoch 45/50\n",
      "7259/7259 [==============================] - 50s - loss: 0.3498 - acc: 0.8504 - val_loss: 1.0862 - val_acc: 0.4772\n",
      "Epoch 46/50\n",
      "7259/7259 [==============================] - 48s - loss: 0.3412 - acc: 0.8556 - val_loss: 1.0368 - val_acc: 0.5830\n",
      "Epoch 47/50\n",
      "7259/7259 [==============================] - 48s - loss: 0.3371 - acc: 0.8512 - val_loss: 1.0404 - val_acc: 0.5523\n",
      "Epoch 48/50\n",
      "7259/7259 [==============================] - 47s - loss: 0.3400 - acc: 0.8464 - val_loss: 0.9788 - val_acc: 0.5818\n",
      "Epoch 49/50\n",
      "7259/7259 [==============================] - 47s - loss: 0.3398 - acc: 0.8545 - val_loss: 1.0721 - val_acc: 0.5363\n",
      "Epoch 50/50\n",
      "7259/7259 [==============================] - 47s - loss: 0.3308 - acc: 0.8567 - val_loss: 1.1576 - val_acc: 0.5068\n",
      "Wall time: 41min 33s\n"
     ]
    }
   ],
   "source": [
    "NUM_EPOCHS=50\n",
    "BATCH_SIZE=64\n",
    "%time history = model2.fit(x_train, y_train, epochs=NUM_EPOCHS, batch_size=BATCH_SIZE, shuffle=True, verbose=1, validation_data=(x_test, y_test))"
   ]
  },
  {
   "cell_type": "code",
   "execution_count": 250,
   "metadata": {
    "collapsed": false
   },
   "outputs": [
    {
     "name": "stdout",
     "output_type": "stream",
     "text": [
      "(813, 2)\n",
      "accuracy en conjunto de test= 50.6765067651\n",
      "Normalized confusion matrix\n",
      "[[ 0.76  0.24]\n",
      " [ 0.71  0.29]]\n"
     ]
    },
    {
     "data": {
      "image/png": "[encoded data removed]",
      "text/plain": [
       "<matplotlib.figure.Figure at 0x28075d9ca58>"
      ]
     },
     "metadata": {},
     "output_type": "display_data"
    }
   ],
   "source": [
    "\n",
    "label_predGait = model2.predict(x_test)\n",
    "print (label_predGait.shape)\n",
    "\n",
    "\n",
    "accTest=accuracy(label_predGait, y_test)\n",
    "\n",
    "print('accuracy en conjunto de test=', accTest)\n",
    "\n",
    "# grafica de la matriz de confusion\n",
    "\n",
    "cnf_matrix = confusion_matrix(np.argmax(label_predGait,1), np.argmax(y_test,1))\n",
    "np.set_printoptions(precision=2)\n",
    "\n",
    "class_names=['Healthy Control', 'Patient']\n",
    "# Plot non-normalized confusion matrix\n",
    "plt.figure(figsize=(5,5))\n",
    "plot_confusion_matrix(cnf_matrix, classes=class_names, normalize=True,\n",
    "                      title='Matriz de Confusion')\n",
    "\n",
    "plt.savefig('cmSpeechLSTM.pdf')\n",
    "plt.show()"
   ]
  },
  {
   "cell_type": "code",
   "execution_count": 251,
   "metadata": {
    "collapsed": false
   },
   "outputs": [
    {
     "data": {
      "image/png": "[encoded data removed]",
      "text/plain": [
       "<matplotlib.figure.Figure at 0x28094a71cc0>"
      ]
     },
     "metadata": {},
     "output_type": "display_data"
    },
    {
     "data": {
      "image/png": "[encoded data removed]",
      "text/plain": [
       "<matplotlib.figure.Figure at 0x28094930ba8>"
      ]
     },
     "metadata": {},
     "output_type": "display_data"
    }
   ],
   "source": [
    "# summarize history for loss\n",
    "plt.figure(figsize=(4,3))\n",
    "plt.plot(history.history['loss'])\n",
    "plt.plot(history.history['val_loss'])\n",
    "plt.title('Funcion de perdida')\n",
    "plt.ylabel('Entropia cruzada')\n",
    "plt.xlabel('epoch')\n",
    "plt.legend(['Entrenamiento', 'Validacion'])\n",
    "plt.savefig('lossspeechLSTM.pdf')\n",
    "plt.show()\n",
    "\n",
    "plt.figure(figsize=(4,3))\n",
    "plt.plot(history.history['acc'])\n",
    "plt.ylabel('Tasa de aciertos')\n",
    "plt.xlabel('epoch')\n",
    "plt.savefig('accspeechLSTM.pdf')\n",
    "plt.show()\n"
   ]
  },
  {
   "cell_type": "markdown",
   "metadata": {},
   "source": [
    "## Carga la base de datos de escritura: Onset"
   ]
  },
  {
   "cell_type": "code",
   "execution_count": 172,
   "metadata": {
    "collapsed": false
   },
   "outputs": [
    {
     "name": "stdout",
     "output_type": "stream",
     "text": [
      "(20977, 36, 16) (20977,)\n"
     ]
    }
   ],
   "source": [
    "pickle_file = 'onsethandwritingAll.pickle'\n",
    "\n",
    "with open(pickle_file, 'rb') as f:\n",
    "    save = pickle.load(f)\n",
    "    ID = save['ID']\n",
    "    y = save['labelclass']\n",
    "    x = save['img']\n",
    "    task = save['Task']\n",
    "    del save  # hint to help gc free up memory\n",
    "\n",
    "\n",
    "\n",
    "y2 = np_utils.to_categorical(y, 2)\n",
    "print(x.shape, y.shape)"
   ]
  },
  {
   "cell_type": "code",
   "execution_count": 173,
   "metadata": {
    "collapsed": false
   },
   "outputs": [
    {
     "name": "stdout",
     "output_type": "stream",
     "text": [
      "18972 2005\n",
      "[17 20 36 38 47 70 72]\n"
     ]
    }
   ],
   "source": [
    "group_kfold = GroupKFold(n_splits=10)\n",
    "\n",
    "skf=StratifiedKFold(n_splits=10, shuffle=True)\n",
    "\n",
    "p=np.random.permutation(len(ID))\n",
    "\n",
    "x=x[p,:,:]\n",
    "y=y[p]\n",
    "y2=y2[p,:]\n",
    "ID=ID[p]\n",
    "task=[task[i] for i in p]\n",
    "\n",
    "for train_index, test_index in group_kfold.split(x, y,ID):\n",
    "    print(len(train_index), len(test_index))\n",
    "    break\n",
    "    \n",
    "print(np.unique(ID[test_index]))\n",
    "\n",
    "x_train=x[train_index,:,:]\n",
    "y_train=y2[train_index,:]\n",
    "x_test=x[test_index,:,:]\n",
    "y_test=y2[test_index,:]\n",
    "\n",
    "avg_image=np.mean(x_train,0)\n",
    "std_image=np.std(x_train,0)\n",
    "\n",
    "x_train=(x_train-avg_image)/std_image\n",
    "x_test=(x_test-avg_image)/std_image"
   ]
  },
  {
   "cell_type": "code",
   "execution_count": 182,
   "metadata": {
    "collapsed": false
   },
   "outputs": [
    {
     "name": "stdout",
     "output_type": "stream",
     "text": [
      "_________________________________________________________________\n",
      "Layer (type)                 Output Shape              Param #   \n",
      "=================================================================\n",
      "lstm_37 (LSTM)               (None, 128)               74240     \n",
      "_________________________________________________________________\n",
      "dense_35 (Dense)             (None, 2)                 258       \n",
      "=================================================================\n",
      "Total params: 74,498.0\n",
      "Trainable params: 74,498\n",
      "Non-trainable params: 0.0\n",
      "_________________________________________________________________\n"
     ]
    }
   ],
   "source": [
    "HIDDEN_UNITS=128\n",
    "input_shape = (x_train.shape[1], x_train.shape[2])\n",
    "num_labels=2\n",
    "\n",
    "\n",
    "model3 = Sequential()\n",
    "model3.add(LSTM(HIDDEN_UNITS, input_shape=input_shape, dropout=0.5))\n",
    "#model2.add(Dropout(0.5))\n",
    "model3.add(Dense(num_labels, activation='softmax'))\n",
    "model3.compile(optimizer='rmsprop', loss='categorical_crossentropy', metrics=['accuracy'])\n",
    "#optimizer = RMSprop(lr=0.01)\n",
    "#model2.compile(loss='categorical_crossentropy', optimizer=optimizer, metrics=['accuracy'])\n",
    "model3.summary()"
   ]
  },
  {
   "cell_type": "code",
   "execution_count": 183,
   "metadata": {
    "collapsed": false
   },
   "outputs": [
    {
     "name": "stdout",
     "output_type": "stream",
     "text": [
      "Train on 18972 samples, validate on 2005 samples\n",
      "Epoch 1/50\n",
      "18972/18972 [==============================] - 142s - loss: 0.5514 - acc: 0.7148 - val_loss: 0.4375 - val_acc: 0.7970\n",
      "Epoch 2/50\n",
      "18972/18972 [==============================] - 118s - loss: 0.5121 - acc: 0.7471 - val_loss: 0.4490 - val_acc: 0.7925\n",
      "Epoch 3/50\n",
      "18972/18972 [==============================] - 119s - loss: 0.4997 - acc: 0.7583 - val_loss: 0.4363 - val_acc: 0.8070\n",
      "Epoch 4/50\n",
      "18972/18972 [==============================] - 118s - loss: 0.4868 - acc: 0.7659 - val_loss: 0.4142 - val_acc: 0.8105\n",
      "Epoch 5/50\n",
      "18972/18972 [==============================] - 117s - loss: 0.4811 - acc: 0.7692 - val_loss: 0.4236 - val_acc: 0.8020\n",
      "Epoch 6/50\n",
      "18972/18972 [==============================] - 119s - loss: 0.4745 - acc: 0.7736 - val_loss: 0.4097 - val_acc: 0.8185\n",
      "Epoch 7/50\n",
      "18972/18972 [==============================] - 117s - loss: 0.4652 - acc: 0.7785 - val_loss: 0.4265 - val_acc: 0.8065\n",
      "Epoch 8/50\n",
      "18972/18972 [==============================] - 117s - loss: 0.4610 - acc: 0.7805 - val_loss: 0.4351 - val_acc: 0.8080\n",
      "Epoch 9/50\n",
      "18972/18972 [==============================] - 117s - loss: 0.4568 - acc: 0.7853 - val_loss: 0.4097 - val_acc: 0.8165\n",
      "Epoch 10/50\n",
      "18972/18972 [==============================] - 117s - loss: 0.4535 - acc: 0.7847 - val_loss: 0.4235 - val_acc: 0.8100\n",
      "Epoch 11/50\n",
      "18972/18972 [==============================] - 117s - loss: 0.4472 - acc: 0.7886 - val_loss: 0.3752 - val_acc: 0.8339\n",
      "Epoch 12/50\n",
      "18972/18972 [==============================] - 118s - loss: 0.4457 - acc: 0.7897 - val_loss: 0.3976 - val_acc: 0.8200\n",
      "Epoch 13/50\n",
      "18972/18972 [==============================] - 117s - loss: 0.4405 - acc: 0.7912 - val_loss: 0.3944 - val_acc: 0.8155\n",
      "Epoch 14/50\n",
      "18972/18972 [==============================] - 117s - loss: 0.4339 - acc: 0.7982 - val_loss: 0.4110 - val_acc: 0.8219\n",
      "Epoch 15/50\n",
      "18972/18972 [==============================] - 117s - loss: 0.4351 - acc: 0.7988 - val_loss: 0.4162 - val_acc: 0.8150\n",
      "Epoch 16/50\n",
      "18972/18972 [==============================] - 116s - loss: 0.4272 - acc: 0.8020 - val_loss: 0.4116 - val_acc: 0.8095\n",
      "Epoch 17/50\n",
      "18972/18972 [==============================] - 117s - loss: 0.4214 - acc: 0.8039 - val_loss: 0.4232 - val_acc: 0.8085\n",
      "Epoch 18/50\n",
      "18972/18972 [==============================] - 117s - loss: 0.4201 - acc: 0.8048 - val_loss: 0.3919 - val_acc: 0.8269\n",
      "Epoch 19/50\n",
      "18972/18972 [==============================] - 117s - loss: 0.4221 - acc: 0.8048 - val_loss: 0.3948 - val_acc: 0.8175\n",
      "Epoch 20/50\n",
      "18972/18972 [==============================] - 117s - loss: 0.4228 - acc: 0.8044 - val_loss: 0.4056 - val_acc: 0.8110\n",
      "Epoch 21/50\n",
      "18972/18972 [==============================] - 117s - loss: 0.4162 - acc: 0.8084 - val_loss: 0.3899 - val_acc: 0.8324\n",
      "Epoch 22/50\n",
      "18972/18972 [==============================] - 119s - loss: 0.4151 - acc: 0.8084 - val_loss: 0.4004 - val_acc: 0.8160\n",
      "Epoch 23/50\n",
      "18972/18972 [==============================] - 117s - loss: 0.4109 - acc: 0.8104 - val_loss: 0.4427 - val_acc: 0.7985\n",
      "Epoch 24/50\n",
      "18972/18972 [==============================] - 118s - loss: 0.4063 - acc: 0.8150 - val_loss: 0.4241 - val_acc: 0.8070\n",
      "Epoch 25/50\n",
      "18972/18972 [==============================] - 118s - loss: 0.4055 - acc: 0.8133 - val_loss: 0.3991 - val_acc: 0.8155\n",
      "Epoch 26/50\n",
      "18972/18972 [==============================] - 118s - loss: 0.4089 - acc: 0.8160 - val_loss: 0.3984 - val_acc: 0.8190\n",
      "Epoch 27/50\n",
      "18972/18972 [==============================] - 117s - loss: 0.4032 - acc: 0.8185 - val_loss: 0.4141 - val_acc: 0.8035\n",
      "Epoch 28/50\n",
      "18972/18972 [==============================] - 118s - loss: 0.4028 - acc: 0.8146 - val_loss: 0.4014 - val_acc: 0.8145\n",
      "Epoch 29/50\n",
      "18972/18972 [==============================] - 118s - loss: 0.4008 - acc: 0.8149 - val_loss: 0.3990 - val_acc: 0.8165\n",
      "Epoch 30/50\n",
      "18972/18972 [==============================] - 118s - loss: 0.3948 - acc: 0.8206 - val_loss: 0.4479 - val_acc: 0.7955\n",
      "Epoch 31/50\n",
      "18972/18972 [==============================] - 118s - loss: 0.3969 - acc: 0.8180 - val_loss: 0.4061 - val_acc: 0.8035\n",
      "Epoch 32/50\n",
      "18972/18972 [==============================] - 117s - loss: 0.3888 - acc: 0.8247 - val_loss: 0.3933 - val_acc: 0.8249\n",
      "Epoch 33/50\n",
      "18972/18972 [==============================] - 118s - loss: 0.3939 - acc: 0.8182 - val_loss: 0.3982 - val_acc: 0.8180\n",
      "Epoch 34/50\n",
      "18972/18972 [==============================] - 119s - loss: 0.3872 - acc: 0.8250 - val_loss: 0.4349 - val_acc: 0.7950\n",
      "Epoch 35/50\n",
      "18972/18972 [==============================] - 118s - loss: 0.3893 - acc: 0.8271 - val_loss: 0.4148 - val_acc: 0.8110\n",
      "Epoch 36/50\n",
      "18972/18972 [==============================] - 118s - loss: 0.3886 - acc: 0.8240 - val_loss: 0.3909 - val_acc: 0.8135\n",
      "Epoch 37/50\n",
      "18972/18972 [==============================] - 118s - loss: 0.3881 - acc: 0.8237 - val_loss: 0.3917 - val_acc: 0.8180\n",
      "Epoch 38/50\n",
      "18972/18972 [==============================] - 118s - loss: 0.3829 - acc: 0.8266 - val_loss: 0.4082 - val_acc: 0.8035\n",
      "Epoch 39/50\n",
      "18972/18972 [==============================] - 117s - loss: 0.3834 - acc: 0.8248 - val_loss: 0.4104 - val_acc: 0.8080\n",
      "Epoch 40/50\n",
      "18972/18972 [==============================] - 118s - loss: 0.3815 - acc: 0.8258 - val_loss: 0.4088 - val_acc: 0.8120\n",
      "Epoch 41/50\n",
      "18972/18972 [==============================] - 119s - loss: 0.3862 - acc: 0.8238 - val_loss: 0.3982 - val_acc: 0.8090\n",
      "Epoch 42/50\n",
      "18972/18972 [==============================] - 128s - loss: 0.3774 - acc: 0.8288 - val_loss: 0.4240 - val_acc: 0.8105\n",
      "Epoch 43/50\n",
      "18972/18972 [==============================] - 127s - loss: 0.3782 - acc: 0.8303 - val_loss: 0.4175 - val_acc: 0.8065\n",
      "Epoch 44/50\n",
      "18972/18972 [==============================] - 152s - loss: 0.3794 - acc: 0.8314 - val_loss: 0.4304 - val_acc: 0.8060\n",
      "Epoch 45/50\n",
      "18972/18972 [==============================] - 150s - loss: 0.3767 - acc: 0.8309 - val_loss: 0.3969 - val_acc: 0.8289\n",
      "Epoch 46/50\n",
      "18972/18972 [==============================] - 143s - loss: 0.3781 - acc: 0.8305 - val_loss: 0.4264 - val_acc: 0.7960\n",
      "Epoch 47/50\n",
      "18972/18972 [==============================] - 143s - loss: 0.3709 - acc: 0.8323 - val_loss: 0.3915 - val_acc: 0.8175\n",
      "Epoch 48/50\n",
      "18972/18972 [==============================] - 155s - loss: 0.3736 - acc: 0.8329 - val_loss: 0.4013 - val_acc: 0.8060\n",
      "Epoch 49/50\n",
      "18972/18972 [==============================] - 155s - loss: 0.3690 - acc: 0.8353 - val_loss: 0.3932 - val_acc: 0.8140\n",
      "Epoch 50/50\n",
      "18972/18972 [==============================] - 159s - loss: 0.3711 - acc: 0.8343 - val_loss: 0.4131 - val_acc: 0.8209\n",
      "Wall time: 1h 43min 9s\n"
     ]
    }
   ],
   "source": [
    "NUM_EPOCHS=50\n",
    "BATCH_SIZE=64\n",
    "%time history = model3.fit(x_train, y_train, epochs=NUM_EPOCHS, batch_size=BATCH_SIZE, shuffle=True, verbose=1, validation_data=(x_test, y_test))"
   ]
  },
  {
   "cell_type": "code",
   "execution_count": 184,
   "metadata": {
    "collapsed": false
   },
   "outputs": [
    {
     "name": "stdout",
     "output_type": "stream",
     "text": [
      "(2005, 2)\n",
      "accuracy en conjunto de test= 82.0947630923\n",
      "Normalized confusion matrix\n",
      "[[ 0.8   0.2 ]\n",
      " [ 0.16  0.84]]\n"
     ]
    },
    {
     "data": {
      "image/png": "[encoded data removed]",
      "text/plain": [
       "<matplotlib.figure.Figure at 0x280762b6a90>"
      ]
     },
     "metadata": {},
     "output_type": "display_data"
    }
   ],
   "source": [
    "\n",
    "label_predGait = model3.predict(x_test)\n",
    "print (label_predGait.shape)\n",
    "\n",
    "\n",
    "accTest=accuracy(label_predGait, y_test)\n",
    "\n",
    "print('accuracy en conjunto de test=', accTest)\n",
    "\n",
    "# grafica de la matriz de confusion\n",
    "\n",
    "cnf_matrix = confusion_matrix(np.argmax(label_predGait,1), np.argmax(y_test,1))\n",
    "np.set_printoptions(precision=2)\n",
    "\n",
    "class_names=['Healthy Control', 'Patient']\n",
    "# Plot non-normalized confusion matrix\n",
    "plt.figure(figsize=(5,5))\n",
    "plot_confusion_matrix(cnf_matrix, classes=class_names, normalize=True,\n",
    "                      title='Matriz de Confusion')\n",
    "\n",
    "plt.savefig('cmhandwritingLSTM.pdf')\n",
    "plt.show()"
   ]
  },
  {
   "cell_type": "code",
   "execution_count": 185,
   "metadata": {
    "collapsed": false
   },
   "outputs": [
    {
     "data": {
      "image/png": "[encoded data removed]",
      "text/plain": [
       "<matplotlib.figure.Figure at 0x2807663ca90>"
      ]
     },
     "metadata": {},
     "output_type": "display_data"
    },
    {
     "data": {
      "image/png": "[encoded data removed]",
      "text/plain": [
       "<matplotlib.figure.Figure at 0x280762cc898>"
      ]
     },
     "metadata": {},
     "output_type": "display_data"
    }
   ],
   "source": [
    "# summarize history for loss\n",
    "plt.figure(figsize=(4,3))\n",
    "plt.plot(history.history['loss'])\n",
    "plt.plot(history.history['val_loss'])\n",
    "plt.title('Funcion de perdida')\n",
    "plt.ylabel('Entropia cruzada')\n",
    "plt.xlabel('epoch')\n",
    "plt.legend(['Entrenamiento', 'Validacion'])\n",
    "plt.savefig('losshandwritingLSTM.pdf')\n",
    "plt.show()\n",
    "\n",
    "plt.figure(figsize=(4,3))\n",
    "plt.plot(history.history['acc'])\n",
    "plt.ylabel('Tasa de aciertos')\n",
    "plt.xlabel('epoch')\n",
    "plt.savefig('acchandwritingLSTM.pdf')\n",
    "plt.show()\n"
   ]
  },
  {
   "cell_type": "code",
   "execution_count": null,
   "metadata": {
    "collapsed": true
   },
   "outputs": [],
   "source": []
  },
  {
   "cell_type": "code",
   "execution_count": null,
   "metadata": {
    "collapsed": true
   },
   "outputs": [],
   "source": []
  },
  {
   "cell_type": "code",
   "execution_count": null,
   "metadata": {
    "collapsed": true
   },
   "outputs": [],
   "source": []
  },
  {
   "cell_type": "code",
   "execution_count": null,
   "metadata": {
    "collapsed": true
   },
   "outputs": [],
   "source": []
  },
  {
   "cell_type": "code",
   "execution_count": null,
   "metadata": {
    "collapsed": true
   },
   "outputs": [],
   "source": []
  },
  {
   "cell_type": "code",
   "execution_count": null,
   "metadata": {
    "collapsed": true
   },
   "outputs": [],
   "source": []
  }
 ],
 "metadata": {
  "kernelspec": {
   "display_name": "Python 3",
   "language": "python",
   "name": "python3"
  },
  "language_info": {
   "codemirror_mode": {
    "name": "ipython",
    "version": 3
   },
   "file_extension": ".py",
   "mimetype": "text/x-python",
   "name": "python",
   "nbconvert_exporter": "python",
   "pygments_lexer": "ipython3",
   "version": "3.5.1"
  }
 },
 "nbformat": 4,
 "nbformat_minor": 0
}
